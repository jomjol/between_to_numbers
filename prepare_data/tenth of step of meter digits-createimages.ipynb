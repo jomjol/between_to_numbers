{
 "cells": [
  {
   "cell_type": "code",
   "execution_count": 28,
   "metadata": {},
   "outputs": [
    {
     "name": "stdout",
     "output_type": "stream",
     "text": [
      "meter digit count:  12477\n"
     ]
    }
   ],
   "source": [
    "import os\n",
    "import shutil\n",
    "from PIL import Image \n",
    "from tensorflow import keras\n",
    "import numpy as np\n",
    "\n",
    "\n",
    "def ziffer_data_files(input_dir):\n",
    "    imgfiles = []\n",
    "    for root, dirs, files in os.walk(input_dir):\n",
    "        for file in files:\n",
    "            if (file.endswith(\".jpg\") and not file.startswith(\"10_\") and not file.startswith(\"N\")):\n",
    "                #print(root + \"/\" + file)\n",
    "                imgfiles.append(root + \"/\" + file)\n",
    "    return  imgfiles\n",
    "\n",
    "def ziffer_data(input_dir='images'):\n",
    "    \n",
    "    files = ziffer_data_files(input_dir)\n",
    "    \n",
    "    y_data = np.empty((len(files)))\n",
    "    y_file = np.empty((len(files)), dtype=\"<U50\")\n",
    "    x_data = np.empty((len(files),32,20,3))\n",
    "\n",
    "    for i, aktfile in enumerate(files):\n",
    "        base = os.path.basename(aktfile)\n",
    "\n",
    "        # get label from filename (1.2_ new or 1_ old),\n",
    "        if (base[1]==\".\"):\n",
    "            target = base[0:3]\n",
    "        else:\n",
    "            target = base[0:1]\n",
    "         \n",
    "        category = float(target)\n",
    "        \n",
    "        test_image = Image.open(aktfile).resize((20, 32))\n",
    "        test_image = np.array(test_image, dtype=\"float32\")\n",
    "        y_file[i] =  str(base)\n",
    "        x_data[i] = test_image\n",
    "        y_data[i] =  category\n",
    "    print(\"meter digit count: \", len(y_data))   \n",
    "    return x_data, y_data.reshape(-1), y_file.reshape(-1)\n",
    "x_md, y_md, f_md = ziffer_data('../images')\n",
    "\n",
    "print(f_md.dtype)"
   ]
  },
  {
   "cell_type": "code",
   "execution_count": 29,
   "metadata": {},
   "outputs": [],
   "source": [
    "import os\n",
    "from PIL import Image\n",
    "\n",
    "output_dir = '../datasets/meterdigits'\n",
    "\n",
    "for x, y, f in zip(x_md, y_md, f_md):\n",
    "    image = Image.fromarray(x.astype(np.uint8), mode='RGB')\n",
    "    os.makedirs(os.path.join(output_dir, str(y)), exist_ok=True)\n",
    "    image.save(os.path.join(output_dir,  str(f) + '.jpg')"
   ]
  },
  {
   "cell_type": "code",
   "execution_count": 21,
   "metadata": {},
   "outputs": [
    {
     "name": "stdout",
     "output_type": "stream",
     "text": [
      "Found 12319 files belonging to 100 classes.\n"
     ]
    }
   ],
   "source": [
    "import tensorflow as tf\n",
    "ds = tf.keras.utils.image_dataset_from_directory(directory=output_dir, \n",
    "                                            image_size=(32,28), \n",
    "                                            batch_size=32,\n",
    "                                            color_mode='rgb',\n",
    "                                            label_mode='categorical',\n",
    "                                            shuffle=True)"
   ]
  },
  {
   "cell_type": "code",
   "execution_count": 22,
   "metadata": {},
   "outputs": [
    
   ],
   "source": [
    "import matplotlib.pyplot as plt\n",
    "\n",
    "def plot_dataset_it(data_iter, columns=9, rows=5):\n",
    "\n",
    "    fig = plt.figure(figsize=(18, 11))\n",
    "    \n",
    "    for i in range(1, columns*rows +1):\n",
    "        img, label = data_iter.next()\n",
    "        fig.add_subplot(rows, columns, i)\n",
    "        plt.xticks([0.2, 0.4, 0.6, 0.8])\n",
    "        plt.title(np.argmax(label)/10)  # set title\n",
    "        plt.imshow(np.array(img[0]).astype(np.uint8), aspect='1.6', extent=[0, 1, 0, 1])\n",
    "        ax=plt.gca()\n",
    "        ax.get_xaxis().set_visible(False) \n",
    "        # yellow lines\n",
    "        for y in np.arange(0.2, 0.8, 0.2):\n",
    "                plt.axhline(y=y,color='yellow')\n",
    "    plt.show()\n",
    "\n",
    "plot_dataset_it(iter(ds))"
   ]
  }
 ],
 "metadata": {
  "interpreter": {
   "hash": "4976e0179d97dd6d59b1329a76e601e17b789c2571b41c8b57f5fd69821c0dd3"
  },
  "kernelspec": {
   "display_name": "Python 3.9.10 ('mlp')",
   "language": "python",
   "name": "python3"
  },
  "language_info": {
   "codemirror_mode": {
    "name": "ipython",
    "version": 3
   },
   "file_extension": ".py",
   "mimetype": "text/x-python",
   "name": "python",
   "nbconvert_exporter": "python",
   "pygments_lexer": "ipython3",
   "version": "3.9.10"
  },
  "orig_nbformat": 4
 },
 "nbformat": 4,
 "nbformat_minor": 2
}
